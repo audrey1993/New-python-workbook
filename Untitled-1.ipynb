{
 "cells": [
  {
   "cell_type": "code",
   "execution_count": 3,
   "metadata": {},
   "outputs": [
    {
     "name": "stdout",
     "output_type": "stream",
     "text": [
      "33\n",
      "43\n",
      "56\n",
      "66\n"
     ]
    }
   ],
   "source": [
    "number1 = 10\n",
    "number2 = 23\n",
    "addition = number1 + number2\n",
    "print(addition)\n",
    "print(addition + number1)\n",
    "print(addition + number2)\n",
    "print(addition + number1 + number2)"
   ]
  },
  {
   "cell_type": "code",
   "execution_count": 2,
   "metadata": {},
   "outputs": [
    {
     "name": "stdout",
     "output_type": "stream",
     "text": [
      "78\n"
     ]
    }
   ],
   "source": [
    "input1 = input('Hey buddie, input a number')\n",
    "input2 = input('hey buddie, input another number')\n",
    "print(input1 + input2)"
   ]
  },
  {
   "cell_type": "code",
   "execution_count": 4,
   "metadata": {},
   "outputs": [
    {
     "name": "stdout",
     "output_type": "stream",
     "text": [
      "17\n"
     ]
    }
   ],
   "source": [
    "input1 = int (input('Hey buddie, input a number'))\n",
    "input2 = int (input('Hey buddie, input another value'))\n",
    "print(input1 + input2)"
   ]
  },
  {
   "cell_type": "code",
   "execution_count": 5,
   "metadata": {},
   "outputs": [
    {
     "name": "stdout",
     "output_type": "stream",
     "text": [
      "24.345\n"
     ]
    }
   ],
   "source": [
    "floatVar = 12.345\n",
    "intVar = 12\n",
    "print(floatVar + intVar)"
   ]
  },
  {
   "cell_type": "code",
   "execution_count": 6,
   "metadata": {},
   "outputs": [
    {
     "name": "stdout",
     "output_type": "stream",
     "text": [
      "1.4\n",
      "1\n",
      "2\n",
      "\n"
     ]
    }
   ],
   "source": [
    "# regular division\n",
    "print(7/5)\n",
    "# integer division\n",
    "print(7//5)\n",
    "# modulus (the remainder of a number after division)\n",
    "print(7%5)\n",
    "print()\n"
   ]
  },
  {
   "cell_type": "code",
   "execution_count": 10,
   "metadata": {},
   "outputs": [
    {
     "name": "stdout",
     "output_type": "stream",
     "text": [
      "5\n",
      "10\n",
      "11.666666666666666\n"
     ]
    }
   ],
   "source": [
    "input1 = int(input('enter the first number'))\n",
    "input2 = int(input('enter the second number'))\n",
    "input3 = int(input('enter the third number'))\n",
    "# print(input1+input2+input3)\n",
    "print(input1)\n",
    "print(input1+input2)\n",
    "print(input1 + input2 + input3/3)\n"
   ]
  },
  {
   "cell_type": "code",
   "execution_count": 26,
   "metadata": {},
   "outputs": [
    {
     "name": "stdout",
     "output_type": "stream",
     "text": [
      "Im big\n"
     ]
    }
   ],
   "source": [
    "var1 = int(input('enter your first number'))\n",
    "var2 = int(input('enter your second number'))\n",
    "if var1 > var2:\n",
    "   print('Im big')\n",
    "else:\n",
    "    print('Im bigger than 1')"
   ]
  },
  {
   "cell_type": "code",
   "execution_count": null,
   "metadata": {},
   "outputs": [],
   "source": []
  }
 ],
 "metadata": {
  "interpreter": {
   "hash": "7e1998ff7f8aa20ada591c520b972326324e5ea05489af9e422744c7c09f6dad"
  },
  "kernelspec": {
   "display_name": "Python 3.10.1 64-bit",
   "language": "python",
   "name": "python3"
  },
  "language_info": {
   "codemirror_mode": {
    "name": "ipython",
    "version": 3
   },
   "file_extension": ".py",
   "mimetype": "text/x-python",
   "name": "python",
   "nbconvert_exporter": "python",
   "pygments_lexer": "ipython3",
   "version": "3.10.1"
  },
  "orig_nbformat": 4
 },
 "nbformat": 4,
 "nbformat_minor": 2
}
